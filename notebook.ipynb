{
 "cells": [
  {
   "cell_type": "code",
   "execution_count": 3,
   "metadata": {},
   "outputs": [],
   "source": [
    "import numpy as np\n",
    "import DeepLearning\n",
    "import seaborn as sns"
   ]
  },
  {
   "cell_type": "code",
   "execution_count": 2,
   "metadata": {},
   "outputs": [],
   "source": [
    "import tensorflow as tf\n",
    "\n",
    "mnist_d = tf.keras.datasets.mnist\n",
    "\n",
    "(train_images, train_labels), (test_images, test_labels) = mnist_d.load_data()\n",
    "def argmax(xs):\n",
    "    return max( range(len(xs)), key=lambda i: xs[i] )"
   ]
  },
  {
   "cell_type": "code",
   "execution_count": 3,
   "metadata": {},
   "outputs": [],
   "source": [
    "train_images = train_images/225\n",
    "test_images = test_images/225\n",
    "\n",
    "train_images = train_images.reshape(train_images.shape[0], -1)\n",
    "test_images = test_images.reshape(test_images.shape[0], -1)"
   ]
  },
  {
   "cell_type": "code",
   "execution_count": 4,
   "metadata": {},
   "outputs": [],
   "source": [
    "def oneHotEncode(i, num_labels):\n",
    "    return np.array( [ 1 if i == j else 0 for j in range(num_labels)] )\n",
    "\n",
    "train_labels = np.array([oneHotEncode(label, 10) for label in train_labels])\n",
    "test_labels = np.array([oneHotEncode(label, 10) for label in test_labels])"
   ]
  },
  {
   "cell_type": "code",
   "execution_count": 5,
   "metadata": {},
   "outputs": [],
   "source": [
    "def loop(model : DeepLearning.Sequential, trainVars, trainTargets, loss: DeepLearning.Loss, optimizer : DeepLearning.Optimizer = None):\n",
    "    correct = 0\n",
    "\n",
    "    for i in range(len(trainVars)):\n",
    "        predicted = model.forward(trainVars[i])\n",
    "        if argmax(predicted) == argmax(trainTargets[i]):\n",
    "            correct += 1\n",
    "\n",
    "        #If is training\n",
    "        if optimizer is not None:\n",
    "            gradient = loss.gradient(predicted, trainTargets[i])\n",
    "            model.backward(gradient)\n",
    "            optimizer.step(model)\n",
    "\n",
    "    return correct/len(trainVars)\n"
   ]
  },
  {
   "cell_type": "code",
   "execution_count": 6,
   "metadata": {},
   "outputs": [
    {
     "data": {
      "text/plain": [
       "0.8744333333333333"
      ]
     },
     "execution_count": 6,
     "metadata": {},
     "output_type": "execute_result"
    }
   ],
   "source": [
    "dropout1 = DeepLearning.Dropout(0.1)\n",
    "dropout2 = DeepLearning.Dropout(0.1)\n",
    "predModel = DeepLearning.Sequential([\n",
    "    DeepLearning.Linear(784, 30, name='Linear1'),\n",
    "    dropout1,\n",
    "    DeepLearning.TANH(),\n",
    "    DeepLearning.Linear(30, 10, name='Linear2'),\n",
    "    dropout2,\n",
    "    DeepLearning.TANH(),\n",
    "    DeepLearning.Linear(10,10, name='Linear3')\n",
    "\n",
    "])\n",
    "\n",
    "loss = DeepLearning.SoftMaxCrossEntropy()\n",
    "optimizer = DeepLearning.Momentum(learning_rate=0.01, mo=0.99)\n",
    "dropout1.train = dropout2.train = True\n",
    "loop(predModel, train_images, train_labels, loss, optimizer)"
   ]
  },
  {
   "cell_type": "code",
   "execution_count": 8,
   "metadata": {},
   "outputs": [
    {
     "name": "stdout",
     "output_type": "stream",
     "text": [
      "0.922\n"
     ]
    }
   ],
   "source": [
    "dropout1.train = dropout2.train = False\n",
    "\n",
    "accuracy = loop(predModel, test_images, test_labels, loss=loss, optimizer=None)\n",
    "print(accuracy)"
   ]
  },
  {
   "cell_type": "code",
   "execution_count": 11,
   "metadata": {},
   "outputs": [],
   "source": [
    "import pickle\n",
    "\n",
    "fileHandler = open(\"MNIST_Prediciton_Model\", 'wb')\n",
    "pickle.dump(predModel, fileHandler)\n",
    "fileHandler.close()\n",
    "with open(\"MNIST_Prediciton_Model\", 'rb') as f:\n",
    "    loadedModel = pickle.load(f)"
   ]
  }
 ],
 "metadata": {
  "kernelspec": {
   "display_name": "Python 3",
   "language": "python",
   "name": "python3"
  },
  "language_info": {
   "codemirror_mode": {
    "name": "ipython",
    "version": 3
   },
   "file_extension": ".py",
   "mimetype": "text/x-python",
   "name": "python",
   "nbconvert_exporter": "python",
   "pygments_lexer": "ipython3",
   "version": "3.12.4"
  }
 },
 "nbformat": 4,
 "nbformat_minor": 2
}
